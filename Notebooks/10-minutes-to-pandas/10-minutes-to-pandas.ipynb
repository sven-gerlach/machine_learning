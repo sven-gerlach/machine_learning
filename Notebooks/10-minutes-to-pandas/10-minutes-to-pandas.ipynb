{
 "cells": [
  {
   "cell_type": "markdown",
   "id": "65cd3a09",
   "metadata": {},
   "source": [
    "# [Pandas Tutorial](https://pandas.pydata.org/docs/user_guide/10min.html)"
   ]
  },
  {
   "cell_type": "code",
   "execution_count": 1,
   "id": "a60e6238",
   "metadata": {},
   "outputs": [],
   "source": [
    "import numpy as np\n",
    "import pandas as pd"
   ]
  },
  {
   "cell_type": "markdown",
   "id": "e372f452",
   "metadata": {},
   "source": [
    "## Object Creation"
   ]
  },
  {
   "cell_type": "markdown",
   "id": "17adbb08",
   "metadata": {},
   "source": [
    "### Creating a Series"
   ]
  },
  {
   "cell_type": "code",
   "execution_count": 7,
   "id": "093a917b",
   "metadata": {},
   "outputs": [
    {
     "data": {
      "text/plain": [
       "0    1.0\n",
       "1    3.0\n",
       "2    5.0\n",
       "3    NaN\n",
       "4    6.0\n",
       "5    8.0\n",
       "dtype: float64"
      ]
     },
     "execution_count": 7,
     "metadata": {},
     "output_type": "execute_result"
    }
   ],
   "source": [
    "s = pd.Series([1, 3, 5, np.nan, 6, 8])\n",
    "s"
   ]
  },
  {
   "cell_type": "markdown",
   "id": "85370f7b",
   "metadata": {},
   "source": [
    "### Creating a Data Frame"
   ]
  },
  {
   "cell_type": "markdown",
   "id": "f8616532",
   "metadata": {},
   "source": [
    "#### Passing NumPy array"
   ]
  },
  {
   "cell_type": "code",
   "execution_count": 9,
   "id": "2306c959",
   "metadata": {},
   "outputs": [
    {
     "data": {
      "text/plain": [
       "DatetimeIndex(['2021-01-01', '2021-01-02', '2021-01-03', '2021-01-04',\n",
       "               '2021-01-05', '2021-01-06', '2021-01-07', '2021-01-08',\n",
       "               '2021-01-09', '2021-01-10'],\n",
       "              dtype='datetime64[ns]', freq='D')"
      ]
     },
     "execution_count": 9,
     "metadata": {},
     "output_type": "execute_result"
    }
   ],
   "source": [
    "dates = pd.date_range(\"20210101\", periods=10)\n",
    "dates"
   ]
  },
  {
   "cell_type": "code",
   "execution_count": 25,
   "id": "ec9f64c1",
   "metadata": {},
   "outputs": [
    {
     "data": {
      "text/html": [
       "<div>\n",
       "<style scoped>\n",
       "    .dataframe tbody tr th:only-of-type {\n",
       "        vertical-align: middle;\n",
       "    }\n",
       "\n",
       "    .dataframe tbody tr th {\n",
       "        vertical-align: top;\n",
       "    }\n",
       "\n",
       "    .dataframe thead th {\n",
       "        text-align: right;\n",
       "    }\n",
       "</style>\n",
       "<table border=\"1\" class=\"dataframe\">\n",
       "  <thead>\n",
       "    <tr style=\"text-align: right;\">\n",
       "      <th></th>\n",
       "      <th>col 1</th>\n",
       "      <th>col 2</th>\n",
       "      <th>col 3</th>\n",
       "      <th>col 4</th>\n",
       "      <th>col 5</th>\n",
       "      <th>col 6</th>\n",
       "      <th>col 7</th>\n",
       "      <th>col 8</th>\n",
       "      <th>col 9</th>\n",
       "      <th>col 10</th>\n",
       "    </tr>\n",
       "  </thead>\n",
       "  <tbody>\n",
       "    <tr>\n",
       "      <th>2021-01-01</th>\n",
       "      <td>-0.921465</td>\n",
       "      <td>2.189325</td>\n",
       "      <td>-0.427866</td>\n",
       "      <td>-0.277028</td>\n",
       "      <td>0.578014</td>\n",
       "      <td>0.775507</td>\n",
       "      <td>0.174750</td>\n",
       "      <td>0.522616</td>\n",
       "      <td>1.247798</td>\n",
       "      <td>-0.560153</td>\n",
       "    </tr>\n",
       "    <tr>\n",
       "      <th>2021-01-02</th>\n",
       "      <td>-1.426243</td>\n",
       "      <td>0.537805</td>\n",
       "      <td>-1.112222</td>\n",
       "      <td>1.888931</td>\n",
       "      <td>-1.841857</td>\n",
       "      <td>0.252659</td>\n",
       "      <td>-0.186896</td>\n",
       "      <td>-0.279453</td>\n",
       "      <td>1.703035</td>\n",
       "      <td>0.834247</td>\n",
       "    </tr>\n",
       "    <tr>\n",
       "      <th>2021-01-03</th>\n",
       "      <td>1.207273</td>\n",
       "      <td>0.373860</td>\n",
       "      <td>0.135154</td>\n",
       "      <td>2.141797</td>\n",
       "      <td>0.306684</td>\n",
       "      <td>0.606562</td>\n",
       "      <td>0.270100</td>\n",
       "      <td>1.402113</td>\n",
       "      <td>1.293982</td>\n",
       "      <td>-0.606178</td>\n",
       "    </tr>\n",
       "    <tr>\n",
       "      <th>2021-01-04</th>\n",
       "      <td>0.538361</td>\n",
       "      <td>-1.959966</td>\n",
       "      <td>-0.442977</td>\n",
       "      <td>0.096858</td>\n",
       "      <td>-1.686326</td>\n",
       "      <td>-0.681386</td>\n",
       "      <td>-0.009840</td>\n",
       "      <td>-1.318956</td>\n",
       "      <td>0.103475</td>\n",
       "      <td>1.761541</td>\n",
       "    </tr>\n",
       "    <tr>\n",
       "      <th>2021-01-05</th>\n",
       "      <td>-0.542891</td>\n",
       "      <td>0.629474</td>\n",
       "      <td>0.733663</td>\n",
       "      <td>1.241853</td>\n",
       "      <td>1.704814</td>\n",
       "      <td>0.189430</td>\n",
       "      <td>-1.901363</td>\n",
       "      <td>1.792103</td>\n",
       "      <td>0.718382</td>\n",
       "      <td>0.548678</td>\n",
       "    </tr>\n",
       "    <tr>\n",
       "      <th>2021-01-06</th>\n",
       "      <td>0.476849</td>\n",
       "      <td>-0.419564</td>\n",
       "      <td>0.297077</td>\n",
       "      <td>-0.245533</td>\n",
       "      <td>0.345095</td>\n",
       "      <td>0.868643</td>\n",
       "      <td>-0.819513</td>\n",
       "      <td>-1.896197</td>\n",
       "      <td>-0.956348</td>\n",
       "      <td>1.715150</td>\n",
       "    </tr>\n",
       "    <tr>\n",
       "      <th>2021-01-07</th>\n",
       "      <td>0.996729</td>\n",
       "      <td>0.521151</td>\n",
       "      <td>0.977839</td>\n",
       "      <td>-0.384255</td>\n",
       "      <td>1.060817</td>\n",
       "      <td>-1.391372</td>\n",
       "      <td>-0.524197</td>\n",
       "      <td>0.440262</td>\n",
       "      <td>0.242328</td>\n",
       "      <td>-0.206639</td>\n",
       "    </tr>\n",
       "    <tr>\n",
       "      <th>2021-01-08</th>\n",
       "      <td>0.008894</td>\n",
       "      <td>0.453773</td>\n",
       "      <td>1.896733</td>\n",
       "      <td>1.868137</td>\n",
       "      <td>-0.026584</td>\n",
       "      <td>-0.338320</td>\n",
       "      <td>0.888348</td>\n",
       "      <td>1.741663</td>\n",
       "      <td>1.444501</td>\n",
       "      <td>0.476134</td>\n",
       "    </tr>\n",
       "    <tr>\n",
       "      <th>2021-01-09</th>\n",
       "      <td>-1.190619</td>\n",
       "      <td>1.731886</td>\n",
       "      <td>1.627181</td>\n",
       "      <td>0.885855</td>\n",
       "      <td>-1.780212</td>\n",
       "      <td>-0.065028</td>\n",
       "      <td>-0.812985</td>\n",
       "      <td>-0.007134</td>\n",
       "      <td>0.509102</td>\n",
       "      <td>0.311093</td>\n",
       "    </tr>\n",
       "    <tr>\n",
       "      <th>2021-01-10</th>\n",
       "      <td>-0.517305</td>\n",
       "      <td>0.184475</td>\n",
       "      <td>1.661764</td>\n",
       "      <td>-0.540783</td>\n",
       "      <td>1.623335</td>\n",
       "      <td>-2.200506</td>\n",
       "      <td>0.557151</td>\n",
       "      <td>0.386420</td>\n",
       "      <td>-0.092668</td>\n",
       "      <td>1.620890</td>\n",
       "    </tr>\n",
       "  </tbody>\n",
       "</table>\n",
       "</div>"
      ],
      "text/plain": [
       "               col 1     col 2     col 3     col 4     col 5     col 6  \\\n",
       "2021-01-01 -0.921465  2.189325 -0.427866 -0.277028  0.578014  0.775507   \n",
       "2021-01-02 -1.426243  0.537805 -1.112222  1.888931 -1.841857  0.252659   \n",
       "2021-01-03  1.207273  0.373860  0.135154  2.141797  0.306684  0.606562   \n",
       "2021-01-04  0.538361 -1.959966 -0.442977  0.096858 -1.686326 -0.681386   \n",
       "2021-01-05 -0.542891  0.629474  0.733663  1.241853  1.704814  0.189430   \n",
       "2021-01-06  0.476849 -0.419564  0.297077 -0.245533  0.345095  0.868643   \n",
       "2021-01-07  0.996729  0.521151  0.977839 -0.384255  1.060817 -1.391372   \n",
       "2021-01-08  0.008894  0.453773  1.896733  1.868137 -0.026584 -0.338320   \n",
       "2021-01-09 -1.190619  1.731886  1.627181  0.885855 -1.780212 -0.065028   \n",
       "2021-01-10 -0.517305  0.184475  1.661764 -0.540783  1.623335 -2.200506   \n",
       "\n",
       "               col 7     col 8     col 9    col 10  \n",
       "2021-01-01  0.174750  0.522616  1.247798 -0.560153  \n",
       "2021-01-02 -0.186896 -0.279453  1.703035  0.834247  \n",
       "2021-01-03  0.270100  1.402113  1.293982 -0.606178  \n",
       "2021-01-04 -0.009840 -1.318956  0.103475  1.761541  \n",
       "2021-01-05 -1.901363  1.792103  0.718382  0.548678  \n",
       "2021-01-06 -0.819513 -1.896197 -0.956348  1.715150  \n",
       "2021-01-07 -0.524197  0.440262  0.242328 -0.206639  \n",
       "2021-01-08  0.888348  1.741663  1.444501  0.476134  \n",
       "2021-01-09 -0.812985 -0.007134  0.509102  0.311093  \n",
       "2021-01-10  0.557151  0.386420 -0.092668  1.620890  "
      ]
     },
     "execution_count": 25,
     "metadata": {},
     "output_type": "execute_result"
    }
   ],
   "source": [
    "df = pd.DataFrame(np.random.randn(10,10), index=dates, columns=list([\"col \" + str(x) for x in range(1,11)]))\n",
    "df"
   ]
  },
  {
   "cell_type": "markdown",
   "id": "5a890c6c",
   "metadata": {},
   "source": [
    "#### Passing dict of objects that can be converted to series-like"
   ]
  },
  {
   "cell_type": "code",
   "execution_count": 39,
   "id": "d3288ae5",
   "metadata": {},
   "outputs": [
    {
     "data": {
      "text/html": [
       "<div>\n",
       "<style scoped>\n",
       "    .dataframe tbody tr th:only-of-type {\n",
       "        vertical-align: middle;\n",
       "    }\n",
       "\n",
       "    .dataframe tbody tr th {\n",
       "        vertical-align: top;\n",
       "    }\n",
       "\n",
       "    .dataframe thead th {\n",
       "        text-align: right;\n",
       "    }\n",
       "</style>\n",
       "<table border=\"1\" class=\"dataframe\">\n",
       "  <thead>\n",
       "    <tr style=\"text-align: right;\">\n",
       "      <th></th>\n",
       "      <th>A</th>\n",
       "      <th>B</th>\n",
       "      <th>C</th>\n",
       "      <th>D</th>\n",
       "      <th>E</th>\n",
       "      <th>F</th>\n",
       "    </tr>\n",
       "  </thead>\n",
       "  <tbody>\n",
       "    <tr>\n",
       "      <th>0</th>\n",
       "      <td>1.0</td>\n",
       "      <td>2021-01-01</td>\n",
       "      <td>1.0</td>\n",
       "      <td>3</td>\n",
       "      <td>test</td>\n",
       "      <td>foo</td>\n",
       "    </tr>\n",
       "    <tr>\n",
       "      <th>1</th>\n",
       "      <td>1.0</td>\n",
       "      <td>2021-01-01</td>\n",
       "      <td>1.0</td>\n",
       "      <td>3</td>\n",
       "      <td>train</td>\n",
       "      <td>foo</td>\n",
       "    </tr>\n",
       "    <tr>\n",
       "      <th>2</th>\n",
       "      <td>1.0</td>\n",
       "      <td>2021-01-01</td>\n",
       "      <td>1.0</td>\n",
       "      <td>3</td>\n",
       "      <td>left</td>\n",
       "      <td>foo</td>\n",
       "    </tr>\n",
       "    <tr>\n",
       "      <th>3</th>\n",
       "      <td>1.0</td>\n",
       "      <td>2021-01-01</td>\n",
       "      <td>1.0</td>\n",
       "      <td>3</td>\n",
       "      <td>station</td>\n",
       "      <td>foo</td>\n",
       "    </tr>\n",
       "  </tbody>\n",
       "</table>\n",
       "</div>"
      ],
      "text/plain": [
       "     A          B    C  D        E    F\n",
       "0  1.0 2021-01-01  1.0  3     test  foo\n",
       "1  1.0 2021-01-01  1.0  3    train  foo\n",
       "2  1.0 2021-01-01  1.0  3     left  foo\n",
       "3  1.0 2021-01-01  1.0  3  station  foo"
      ]
     },
     "execution_count": 39,
     "metadata": {},
     "output_type": "execute_result"
    }
   ],
   "source": [
    "df2 = pd.DataFrame(\n",
    "    {\n",
    "        \"A\": 1.0,\n",
    "        \"B\": pd.Timestamp(\"20210101\"),\n",
    "        \"C\": pd.Series(1, index=list(range(4)), dtype=\"float32\"),\n",
    "        \"D\": np.array([3] * 4, dtype=\"int32\"),\n",
    "        \"E\": pd.Categorical([\"test\", 'train', \"left\", \"station\"]),\n",
    "        \"F\": \"foo\"\n",
    "    }\n",
    ")\n",
    "df2"
   ]
  },
  {
   "cell_type": "code",
   "execution_count": 38,
   "id": "da6a8352",
   "metadata": {},
   "outputs": [
    {
     "data": {
      "text/plain": [
       "A           float64\n",
       "B    datetime64[ns]\n",
       "C           float32\n",
       "D             int32\n",
       "E          category\n",
       "F            object\n",
       "dtype: object"
      ]
     },
     "execution_count": 38,
     "metadata": {},
     "output_type": "execute_result"
    }
   ],
   "source": [
    "df2.dtypes"
   ]
  }
 ],
 "metadata": {
  "kernelspec": {
   "display_name": "Python 3",
   "language": "python",
   "name": "python3"
  },
  "language_info": {
   "codemirror_mode": {
    "name": "ipython",
    "version": 3
   },
   "file_extension": ".py",
   "mimetype": "text/x-python",
   "name": "python",
   "nbconvert_exporter": "python",
   "pygments_lexer": "ipython3",
   "version": "3.8.5"
  }
 },
 "nbformat": 4,
 "nbformat_minor": 5
}
